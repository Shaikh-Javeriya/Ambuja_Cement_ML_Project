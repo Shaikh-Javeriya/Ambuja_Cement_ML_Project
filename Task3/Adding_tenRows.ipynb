{
 "cells": [
  {
   "cell_type": "markdown",
   "id": "9d7533c2",
   "metadata": {},
   "source": [
    "## Addind 10 rows in Dataset using Data Augmentation Technique"
   ]
  },
  {
   "cell_type": "code",
   "execution_count": 1,
   "id": "fa21ff21",
   "metadata": {},
   "outputs": [],
   "source": [
    "# Importing necessary libraries\n",
    "import pandas as pd\n",
    "import numpy as np"
   ]
  },
  {
   "cell_type": "code",
   "execution_count": 2,
   "id": "e6998f8f",
   "metadata": {},
   "outputs": [
    {
     "name": "stdout",
     "output_type": "stream",
     "text": [
      "<class 'pandas.core.frame.DataFrame'>\n",
      "RangeIndex: 6139 entries, 0 to 6138\n",
      "Data columns (total 9 columns):\n",
      " #   Column                      Non-Null Count  Dtype  \n",
      "---  ------                      --------------  -----  \n",
      " 0   Material Quantity (gm)      6030 non-null   float64\n",
      " 1   Additive Catalyst (gm)      6030 non-null   float64\n",
      " 2   Ash Component (gm)          6030 non-null   float64\n",
      " 3   Water Mix (ml)              6030 non-null   float64\n",
      " 4   Plasticizer (gm)            6030 non-null   float64\n",
      " 5   Moderate Aggregator         6030 non-null   float64\n",
      " 6   Refined Aggregator          6030 non-null   float64\n",
      " 7   Formulation Duration (hrs)  6030 non-null   float64\n",
      " 8   Compression Strength MPa    6139 non-null   float64\n",
      "dtypes: float64(9)\n",
      "memory usage: 431.8 KB\n"
     ]
    }
   ],
   "source": [
    "df = pd.read_csv(\"Material Compressive Strength Experimental Data.csv\")\n",
    "df.info()"
   ]
  },
  {
   "cell_type": "code",
   "execution_count": 3,
   "id": "e6b3db4e",
   "metadata": {},
   "outputs": [
    {
     "data": {
      "text/plain": [
       "Material Quantity (gm)        109\n",
       "Additive Catalyst (gm)        109\n",
       "Ash Component (gm)            109\n",
       "Water Mix (ml)                109\n",
       "Plasticizer (gm)              109\n",
       "Moderate Aggregator           109\n",
       "Refined Aggregator            109\n",
       "Formulation Duration (hrs)    109\n",
       "Compression Strength MPa        0\n",
       "dtype: int64"
      ]
     },
     "execution_count": 3,
     "metadata": {},
     "output_type": "execute_result"
    }
   ],
   "source": [
    "#Checking Null Values\n",
    "df.isnull().sum()"
   ]
  },
  {
   "cell_type": "code",
   "execution_count": 4,
   "id": "6d0b27da",
   "metadata": {},
   "outputs": [
    {
     "data": {
      "text/plain": [
       "Material Quantity (gm)        0\n",
       "Additive Catalyst (gm)        0\n",
       "Ash Component (gm)            0\n",
       "Water Mix (ml)                0\n",
       "Plasticizer (gm)              0\n",
       "Moderate Aggregator           0\n",
       "Refined Aggregator            0\n",
       "Formulation Duration (hrs)    0\n",
       "Compression Strength MPa      0\n",
       "dtype: int64"
      ]
     },
     "execution_count": 4,
     "metadata": {},
     "output_type": "execute_result"
    }
   ],
   "source": [
    "#Removing Null Values\n",
    "df.dropna(subset = [\"Material Quantity (gm)\"], inplace = True)\n",
    "df.isnull().sum()"
   ]
  },
  {
   "cell_type": "code",
   "execution_count": 5,
   "id": "c46760e1",
   "metadata": {},
   "outputs": [
    {
     "name": "stdout",
     "output_type": "stream",
     "text": [
      "<class 'pandas.core.frame.DataFrame'>\n",
      "Int64Index: 6030 entries, 0 to 6138\n",
      "Data columns (total 9 columns):\n",
      " #   Column                      Non-Null Count  Dtype  \n",
      "---  ------                      --------------  -----  \n",
      " 0   Material Quantity (gm)      6030 non-null   float64\n",
      " 1   Additive Catalyst (gm)      6030 non-null   float64\n",
      " 2   Ash Component (gm)          6030 non-null   float64\n",
      " 3   Water Mix (ml)              6030 non-null   float64\n",
      " 4   Plasticizer (gm)            6030 non-null   float64\n",
      " 5   Moderate Aggregator         6030 non-null   float64\n",
      " 6   Refined Aggregator          6030 non-null   float64\n",
      " 7   Formulation Duration (hrs)  6030 non-null   float64\n",
      " 8   Compression Strength MPa    6030 non-null   float64\n",
      "dtypes: float64(9)\n",
      "memory usage: 471.1 KB\n"
     ]
    }
   ],
   "source": [
    "df.info()"
   ]
  },
  {
   "cell_type": "code",
   "execution_count": 6,
   "id": "ce7d72c8",
   "metadata": {},
   "outputs": [],
   "source": [
    "#Adding 10 rows using Data Augmentation Technique\n",
    "\n",
    "#Specify the number of rows we want to generate\n",
    "extra_rows = 10\n",
    "\n",
    "#Create empty dataframe to store augmented rows\n",
    "augmented_df = pd.DataFrame()\n"
   ]
  },
  {
   "cell_type": "code",
   "execution_count": 7,
   "id": "bf17e1ca",
   "metadata": {},
   "outputs": [
    {
     "name": "stdout",
     "output_type": "stream",
     "text": [
      "<class 'pandas.core.frame.DataFrame'>\n",
      "RangeIndex: 10 entries, 0 to 9\n",
      "Data columns (total 9 columns):\n",
      " #   Column                      Non-Null Count  Dtype  \n",
      "---  ------                      --------------  -----  \n",
      " 0   Material Quantity (gm)      10 non-null     float64\n",
      " 1   Additive Catalyst (gm)      10 non-null     float64\n",
      " 2   Ash Component (gm)          10 non-null     float64\n",
      " 3   Water Mix (ml)              10 non-null     float64\n",
      " 4   Plasticizer (gm)            10 non-null     float64\n",
      " 5   Moderate Aggregator         10 non-null     float64\n",
      " 6   Refined Aggregator          10 non-null     float64\n",
      " 7   Formulation Duration (hrs)  10 non-null     float64\n",
      " 8   Compression Strength MPa    10 non-null     float64\n",
      "dtypes: float64(9)\n",
      "memory usage: 848.0 bytes\n"
     ]
    }
   ],
   "source": [
    "#Apply data augmentation technique to generate extra rows\n",
    "for _ in range(extra_rows):\n",
    "    #Randomly select an existing row from the cement dataset\n",
    "    random_index = np.random.choice(df.index)\n",
    "    selected_row = df.loc[random_index, :].copy()\n",
    "    \n",
    "    #Apply data augmentation technique to the selected row\n",
    "    noise_magnitude = 0.1\n",
    "    noise = np.random.normal(0, noise_magnitude, size = len(selected_row))\n",
    "    selected_row += noise\n",
    "    \n",
    "    #Add the augmented row to the DataFrame\n",
    "    augmented_df = pd.concat([augmented_df, selected_row.to_frame().T], ignore_index = True)\n",
    "    \n",
    "augmented_df.info()"
   ]
  },
  {
   "cell_type": "code",
   "execution_count": 10,
   "id": "23643ec3",
   "metadata": {
    "scrolled": false
   },
   "outputs": [
    {
     "name": "stdout",
     "output_type": "stream",
     "text": [
      "<class 'pandas.core.frame.DataFrame'>\n",
      "RangeIndex: 6040 entries, 0 to 6039\n",
      "Data columns (total 9 columns):\n",
      " #   Column                      Non-Null Count  Dtype  \n",
      "---  ------                      --------------  -----  \n",
      " 0   Material Quantity (gm)      6040 non-null   float64\n",
      " 1   Additive Catalyst (gm)      6040 non-null   float64\n",
      " 2   Ash Component (gm)          6040 non-null   float64\n",
      " 3   Water Mix (ml)              6040 non-null   float64\n",
      " 4   Plasticizer (gm)            6040 non-null   float64\n",
      " 5   Moderate Aggregator         6040 non-null   float64\n",
      " 6   Refined Aggregator          6040 non-null   float64\n",
      " 7   Formulation Duration (hrs)  6040 non-null   float64\n",
      " 8   Compression Strength MPa    6040 non-null   float64\n",
      "dtypes: float64(9)\n",
      "memory usage: 424.8 KB\n"
     ]
    }
   ],
   "source": [
    "# Concatenate the original dataset and the augmented dataset\n",
    "augmented_dataset = pd.concat([df, augmented_df], ignore_index = True)\n",
    "\n",
    "augmented_dataset.info()"
   ]
  },
  {
   "cell_type": "code",
   "execution_count": 11,
   "id": "d0a0ba73",
   "metadata": {},
   "outputs": [],
   "source": [
    "augmented_dataset.to_csv(\"Augmented_CementData.csv\",index=False)"
   ]
  },
  {
   "cell_type": "code",
   "execution_count": null,
   "id": "fe5582da",
   "metadata": {},
   "outputs": [],
   "source": []
  }
 ],
 "metadata": {
  "kernelspec": {
   "display_name": "Python 3 (ipykernel)",
   "language": "python",
   "name": "python3"
  },
  "language_info": {
   "codemirror_mode": {
    "name": "ipython",
    "version": 3
   },
   "file_extension": ".py",
   "mimetype": "text/x-python",
   "name": "python",
   "nbconvert_exporter": "python",
   "pygments_lexer": "ipython3",
   "version": "3.9.13"
  }
 },
 "nbformat": 4,
 "nbformat_minor": 5
}

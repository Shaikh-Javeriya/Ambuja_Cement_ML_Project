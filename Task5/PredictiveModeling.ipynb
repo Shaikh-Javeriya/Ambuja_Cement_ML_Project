{
 "cells": [
  {
   "cell_type": "markdown",
   "id": "ca82f89c",
   "metadata": {},
   "source": [
    "## Predictive Modeling on Processed Data"
   ]
  },
  {
   "cell_type": "markdown",
   "id": "5340c1b8",
   "metadata": {},
   "source": [
    "Please refer the project summary document for better understanding of the code below"
   ]
  },
  {
   "cell_type": "code",
   "execution_count": 1,
   "id": "211be861",
   "metadata": {},
   "outputs": [],
   "source": [
    "# Importing needed libraries\n",
    "import numpy as np\n",
    "import pandas as pd\n",
    "from sklearn.preprocessing import MinMaxScaler\n",
    "from sklearn.model_selection import train_test_split\n",
    "from sklearn.model_selection import cross_val_score\n",
    "from sklearn.model_selection import GridSearchCV\n",
    "from sklearn.linear_model import Lasso\n",
    "from sklearn.linear_model import Ridge\n",
    "from sklearn.linear_model import LinearRegression\n",
    "from sklearn.ensemble import GradientBoostingRegressor\n",
    "from sklearn.svm import SVR\n",
    "from sklearn.metrics import r2_score\n",
    "from sklearn.metrics import mean_squared_error\n",
    "import warnings\n",
    "warnings.filterwarnings(\"ignore\")"
   ]
  },
  {
   "cell_type": "code",
   "execution_count": 2,
   "id": "4bbfd9c3",
   "metadata": {},
   "outputs": [
    {
     "name": "stdout",
     "output_type": "stream",
     "text": [
      "<class 'pandas.core.frame.DataFrame'>\n",
      "RangeIndex: 6040 entries, 0 to 6039\n",
      "Data columns (total 53 columns):\n",
      " #   Column                                             Non-Null Count  Dtype  \n",
      "---  ------                                             --------------  -----  \n",
      " 0   Material Quantity (gm)                             6040 non-null   float64\n",
      " 1   Additive Catalyst (gm)                             6040 non-null   float64\n",
      " 2   Ash Component (gm)                                 6040 non-null   float64\n",
      " 3   Water Mix (ml)                                     6040 non-null   float64\n",
      " 4   Plasticizer (gm)                                   6040 non-null   float64\n",
      " 5   Moderate Aggregator                                6040 non-null   float64\n",
      " 6   Refined Aggregator                                 6040 non-null   float64\n",
      " 7   Formulation Duration (hrs)                         6040 non-null   float64\n",
      " 8   Compression Strength MPa                           6040 non-null   float64\n",
      " 9   Material Quantity (gm).1                           6040 non-null   float64\n",
      " 10  Refined Aggregator.1                               6040 non-null   float64\n",
      " 11  Additive Catalyst (gm).1                           6040 non-null   float64\n",
      " 12  Ash Component (gm).1                               6040 non-null   float64\n",
      " 13  Water Mix (ml).1                                   6040 non-null   float64\n",
      " 14  Plasticizer (gm).1                                 6040 non-null   float64\n",
      " 15  Moderate Aggregator.1                              6040 non-null   float64\n",
      " 16  Formulation Duration (hrs).1                       6040 non-null   float64\n",
      " 17  Material Quantity (gm)^2                           6040 non-null   float64\n",
      " 18  Material Quantity (gm) Refined Aggregator          6040 non-null   float64\n",
      " 19  Material Quantity (gm) Additive Catalyst (gm)      6040 non-null   float64\n",
      " 20  Material Quantity (gm) Ash Component (gm)          6040 non-null   float64\n",
      " 21  Material Quantity (gm) Water Mix (ml)              6040 non-null   float64\n",
      " 22  Material Quantity (gm) Plasticizer (gm)            6040 non-null   float64\n",
      " 23  Material Quantity (gm) Moderate Aggregator         6040 non-null   float64\n",
      " 24  Material Quantity (gm) Formulation Duration (hrs)  6040 non-null   float64\n",
      " 25  Refined Aggregator^2                               6040 non-null   float64\n",
      " 26  Refined Aggregator Additive Catalyst (gm)          6040 non-null   float64\n",
      " 27  Refined Aggregator Ash Component (gm)              6040 non-null   float64\n",
      " 28  Refined Aggregator Water Mix (ml)                  6040 non-null   float64\n",
      " 29  Refined Aggregator Plasticizer (gm)                6040 non-null   float64\n",
      " 30  Refined Aggregator Moderate Aggregator             6040 non-null   float64\n",
      " 31  Refined Aggregator Formulation Duration (hrs)      6040 non-null   float64\n",
      " 32  Additive Catalyst (gm)^2                           6040 non-null   float64\n",
      " 33  Additive Catalyst (gm) Ash Component (gm)          6040 non-null   float64\n",
      " 34  Additive Catalyst (gm) Water Mix (ml)              6040 non-null   float64\n",
      " 35  Additive Catalyst (gm) Plasticizer (gm)            6040 non-null   float64\n",
      " 36  Additive Catalyst (gm) Moderate Aggregator         6040 non-null   float64\n",
      " 37  Additive Catalyst (gm) Formulation Duration (hrs)  6040 non-null   float64\n",
      " 38  Ash Component (gm)^2                               6040 non-null   float64\n",
      " 39  Ash Component (gm) Water Mix (ml)                  6040 non-null   float64\n",
      " 40  Ash Component (gm) Plasticizer (gm)                6040 non-null   float64\n",
      " 41  Ash Component (gm) Moderate Aggregator             6040 non-null   float64\n",
      " 42  Ash Component (gm) Formulation Duration (hrs)      6040 non-null   float64\n",
      " 43  Water Mix (ml)^2                                   6040 non-null   float64\n",
      " 44  Water Mix (ml) Plasticizer (gm)                    6040 non-null   float64\n",
      " 45  Water Mix (ml) Moderate Aggregator                 6040 non-null   float64\n",
      " 46  Water Mix (ml) Formulation Duration (hrs)          6040 non-null   float64\n",
      " 47  Plasticizer (gm)^2                                 6040 non-null   float64\n",
      " 48  Plasticizer (gm) Moderate Aggregator               6040 non-null   float64\n",
      " 49  Plasticizer (gm) Formulation Duration (hrs)        6040 non-null   float64\n",
      " 50  Moderate Aggregator^2                              6040 non-null   float64\n",
      " 51  Moderate Aggregator Formulation Duration (hrs)     6040 non-null   float64\n",
      " 52  Formulation Duration (hrs)^2                       6040 non-null   float64\n",
      "dtypes: float64(53)\n",
      "memory usage: 2.4 MB\n"
     ]
    }
   ],
   "source": [
    "df = pd.read_csv(\"Processed_CementData.csv\")\n",
    "df.info()"
   ]
  },
  {
   "cell_type": "code",
   "execution_count": 3,
   "id": "bbee8e15",
   "metadata": {},
   "outputs": [],
   "source": [
    "X = df.drop('Compression Strength MPa', axis=1)\n",
    "y = df[['Compression Strength MPa']]\n",
    "\n",
    "X_train, X_test, y_train, y_test = train_test_split(X, y, test_size=0.2, random_state=48)"
   ]
  },
  {
   "cell_type": "code",
   "execution_count": 4,
   "id": "af9da65a",
   "metadata": {},
   "outputs": [
    {
     "data": {
      "text/plain": [
       "LinearRegression()"
      ]
     },
     "execution_count": 4,
     "metadata": {},
     "output_type": "execute_result"
    }
   ],
   "source": [
    "# In the EDA phase we didn't find any pattern which means may be tha data is overfitting or has skewness\n",
    "#because of adding 10 rows by data augmentation technique. Need to identify it first. \n",
    "\n",
    "model = LinearRegression()\n",
    "model.fit(X_train,y_train)"
   ]
  },
  {
   "cell_type": "code",
   "execution_count": 5,
   "id": "fd391a88",
   "metadata": {},
   "outputs": [
    {
     "name": "stdout",
     "output_type": "stream",
     "text": [
      "Test R-squared score : 0.280222173125403\n"
     ]
    }
   ],
   "source": [
    "# Evaluate the model on the test set\n",
    "\n",
    "test_score = model.score(X_test,y_test)\n",
    "print(f\"Test R-squared score : {test_score}\")"
   ]
  },
  {
   "cell_type": "code",
   "execution_count": 6,
   "id": "53624cbc",
   "metadata": {},
   "outputs": [
    {
     "name": "stdout",
     "output_type": "stream",
     "text": [
      "Cross-Validation R-squared scores : [0.27453938 0.24019837 0.19213068 0.27077684 0.27492728] \n",
      "Average cross-validation R-squared score : 0.25051451086395515\n"
     ]
    }
   ],
   "source": [
    "# Using cross validation to get a more robust estimate of model performance\n",
    "\n",
    "cv_scores = cross_val_score(model, X, y, cv=5)\n",
    "print(f\"Cross-Validation R-squared scores : {cv_scores} \\nAverage cross-validation R-squared score : {cv_scores.mean()}\")"
   ]
  },
  {
   "cell_type": "code",
   "execution_count": 7,
   "id": "bca6b4a0",
   "metadata": {},
   "outputs": [
    {
     "data": {
      "text/plain": [
       "Lasso(alpha=0.3)"
      ]
     },
     "execution_count": 7,
     "metadata": {},
     "output_type": "execute_result"
    }
   ],
   "source": [
    "# As the R2 Score is very low i.e. 25.05% avg, we need to apply regularization \n",
    "\n",
    "Lasso_model = Lasso(alpha=0.3)\n",
    "Lasso_model.fit(X_train,y_train)"
   ]
  },
  {
   "cell_type": "code",
   "execution_count": 8,
   "id": "67db66c3",
   "metadata": {},
   "outputs": [
    {
     "name": "stdout",
     "output_type": "stream",
     "text": [
      "Lasso R2 Score : 0.2781084194046476\n"
     ]
    }
   ],
   "source": [
    "Lasso_R2 = Lasso_model.score(X_test,y_test)\n",
    "print(f\"Lasso R2 Score : {Lasso_R2}\")"
   ]
  },
  {
   "cell_type": "code",
   "execution_count": 9,
   "id": "f503fa23",
   "metadata": {},
   "outputs": [
    {
     "name": "stdout",
     "output_type": "stream",
     "text": [
      "Lasso CV Scores : [0.24181576 0.21336275 0.25387504 0.24821232 0.25168171]\n",
      "Average CV Score : 0.24178951791137662\n"
     ]
    }
   ],
   "source": [
    "cv_scores = cross_val_score(Lasso_model, X_train, y_train, cv=5)\n",
    "print(f\"Lasso CV Scores : {cv_scores}\\nAverage CV Score : {cv_scores.mean()}\")"
   ]
  },
  {
   "cell_type": "code",
   "execution_count": 10,
   "id": "1105fc5a",
   "metadata": {},
   "outputs": [
    {
     "data": {
      "text/plain": [
       "Ridge(alpha=0.4)"
      ]
     },
     "execution_count": 10,
     "metadata": {},
     "output_type": "execute_result"
    }
   ],
   "source": [
    "# Applying Ridge regularization\n",
    "\n",
    "Ridge_model = Ridge(alpha=0.4)\n",
    "Ridge_model.fit(X_train, y_train)"
   ]
  },
  {
   "cell_type": "code",
   "execution_count": 11,
   "id": "e3d5e25a",
   "metadata": {},
   "outputs": [
    {
     "name": "stdout",
     "output_type": "stream",
     "text": [
      "Ridge R2 Score : 0.2801753627256778\n"
     ]
    }
   ],
   "source": [
    "Ridge_R2 = Ridge_model.score(X_test, y_test)\n",
    "print(f\"Ridge R2 Score : {Ridge_R2}\")"
   ]
  },
  {
   "cell_type": "code",
   "execution_count": 12,
   "id": "9450f801",
   "metadata": {},
   "outputs": [
    {
     "name": "stdout",
     "output_type": "stream",
     "text": [
      "Ridge CV Score : [0.24458255 0.21144036 0.25564342 0.24747709 0.25255024]\n",
      "Average CV score : 0.24233873272556875\n"
     ]
    }
   ],
   "source": [
    "cv_scores = cross_val_score(Ridge_model, X_train, y_train, cv=5)\n",
    "print(f\"Ridge CV Score : {cv_scores}\\nAverage CV score : {cv_scores.mean()}\")"
   ]
  },
  {
   "cell_type": "code",
   "execution_count": 13,
   "id": "74513596",
   "metadata": {},
   "outputs": [
    {
     "data": {
      "text/plain": [
       "array([[0.67740849, 0.41188679, 0.08708832, ..., 0.92341729, 0.89150948,\n",
       "        0.82014303],\n",
       "       [0.01661801, 0.5932903 , 0.76028183, ..., 0.73050234, 0.04021267,\n",
       "        0.00394133],\n",
       "       [0.81504978, 0.00647707, 0.45780764, ..., 0.53331019, 0.53493921,\n",
       "        0.38958829],\n",
       "       ...,\n",
       "       [0.21265364, 0.4376084 , 0.27677314, ..., 0.56087563, 0.28963643,\n",
       "        0.1222591 ],\n",
       "       [0.44687572, 0.62738082, 0.88699361, ..., 0.59619893, 0.60557985,\n",
       "        0.47296076],\n",
       "       [0.27325606, 0.80178338, 0.00953846, ..., 0.38394733, 0.51792918,\n",
       "        0.40748354]])"
      ]
     },
     "execution_count": 13,
     "metadata": {},
     "output_type": "execute_result"
    }
   ],
   "source": [
    "#Still the cv score is very low then we can apply Feature scaling technique on the data first and then start modeling.\n",
    "#Normalizing data\n",
    "\n",
    "scaler = MinMaxScaler()\n",
    "IV_normalized = scaler.fit_transform(X)\n",
    "IV_normalized"
   ]
  },
  {
   "cell_type": "code",
   "execution_count": 14,
   "id": "84dc6cb0",
   "metadata": {},
   "outputs": [
    {
     "data": {
      "text/plain": [
       "(6040, 1)"
      ]
     },
     "execution_count": 14,
     "metadata": {},
     "output_type": "execute_result"
    }
   ],
   "source": [
    "y.shape"
   ]
  },
  {
   "cell_type": "code",
   "execution_count": 15,
   "id": "da616ee5",
   "metadata": {},
   "outputs": [
    {
     "data": {
      "text/plain": [
       "array([[0.8596218 ],\n",
       "       [0.63615128],\n",
       "       [0.83704116],\n",
       "       ...,\n",
       "       [0.62507122],\n",
       "       [0.40795873],\n",
       "       [0.56518272]])"
      ]
     },
     "execution_count": 15,
     "metadata": {},
     "output_type": "execute_result"
    }
   ],
   "source": [
    "dv_normalized = scaler.fit_transform(y)\n",
    "dv_normalized"
   ]
  },
  {
   "cell_type": "code",
   "execution_count": 16,
   "id": "660c212f",
   "metadata": {},
   "outputs": [],
   "source": [
    "X_train, X_test, y_train, y_test = train_test_split(IV_normalized, dv_normalized, test_size = 0.2, random_state = 48)"
   ]
  },
  {
   "cell_type": "code",
   "execution_count": 17,
   "id": "7c107908",
   "metadata": {},
   "outputs": [
    {
     "data": {
      "text/plain": [
       "SVR(kernel='linear')"
      ]
     },
     "execution_count": 17,
     "metadata": {},
     "output_type": "execute_result"
    }
   ],
   "source": [
    "# Creating and using SVR model\n",
    "\n",
    "svr_model = SVR(kernel=\"linear\")\n",
    "svr_model.fit(X_train, y_train)"
   ]
  },
  {
   "cell_type": "code",
   "execution_count": 18,
   "id": "5f3a8497",
   "metadata": {},
   "outputs": [
    {
     "name": "stdout",
     "output_type": "stream",
     "text": [
      "Mean Squared Error (MSE) : 0.025228843287229914\n",
      "R2 Score : 0.2833690978278728\n"
     ]
    }
   ],
   "source": [
    "y_pred_lsvm = svr_model.predict(X_test)\n",
    "\n",
    "mse = mean_squared_error(y_test, y_pred_lsvm)\n",
    "r2 = r2_score(y_test, y_pred_lsvm)\n",
    "print(f\"Mean Squared Error (MSE) : {mse}\\nR2 Score : {r2}\")"
   ]
  },
  {
   "cell_type": "code",
   "execution_count": 19,
   "id": "fadc58e4",
   "metadata": {},
   "outputs": [
    {
     "data": {
      "text/plain": [
       "SVR(C=0.1, degree=2)"
      ]
     },
     "execution_count": 19,
     "metadata": {},
     "output_type": "execute_result"
    }
   ],
   "source": [
    "svr_model = SVR(kernel=\"rbf\", degree=2, C=0.1)\n",
    "svr_model.fit(X_train, y_train)"
   ]
  },
  {
   "cell_type": "code",
   "execution_count": 20,
   "id": "c770fa2f",
   "metadata": {},
   "outputs": [
    {
     "name": "stdout",
     "output_type": "stream",
     "text": [
      "Mean Squared Error (MSE) : 0.023377870516411988\n",
      "R2 Score : 0.33594639087082057\n"
     ]
    }
   ],
   "source": [
    "y_pred_rsvm = svr_model.predict(X_test)\n",
    "\n",
    "mse = mean_squared_error(y_test, y_pred_rsvm)\n",
    "r2 = r2_score(y_test, y_pred_rsvm)\n",
    "print(f\"Mean Squared Error (MSE) : {mse}\\nR2 Score : {r2}\")"
   ]
  },
  {
   "cell_type": "code",
   "execution_count": 21,
   "id": "420bb899",
   "metadata": {},
   "outputs": [
    {
     "name": "stdout",
     "output_type": "stream",
     "text": [
      "0.16999609317968745\n"
     ]
    }
   ],
   "source": [
    "abs_error = np.abs(y_test - y_pred_rsvm)\n",
    "print(abs_error.mean())"
   ]
  },
  {
   "cell_type": "code",
   "execution_count": 22,
   "id": "00f1918f",
   "metadata": {},
   "outputs": [
    {
     "data": {
      "text/plain": [
       "SVR(C=0.1, degree=4, kernel='poly')"
      ]
     },
     "execution_count": 22,
     "metadata": {},
     "output_type": "execute_result"
    }
   ],
   "source": [
    "svr_model = SVR(kernel=\"poly\", degree=4, C=0.1)\n",
    "svr_model.fit(X_train, y_train)"
   ]
  },
  {
   "cell_type": "code",
   "execution_count": 23,
   "id": "d65032d2",
   "metadata": {},
   "outputs": [
    {
     "name": "stdout",
     "output_type": "stream",
     "text": [
      "Mean Squared Error (MSE) : 0.027737271821694613\n",
      "R2 Score : 0.21211662766021977\n"
     ]
    }
   ],
   "source": [
    "y_pred_psvm = svr_model.predict(X_test)\n",
    "\n",
    "mse = mean_squared_error(y_test, y_pred_psvm)\n",
    "r2 = r2_score(y_test, y_pred_psvm)\n",
    "print(f\"Mean Squared Error (MSE) : {mse}\\nR2 Score : {r2}\")"
   ]
  },
  {
   "cell_type": "code",
   "execution_count": 24,
   "id": "4bdd5695",
   "metadata": {},
   "outputs": [
    {
     "data": {
      "text/plain": [
       "GradientBoostingRegressor()"
      ]
     },
     "execution_count": 24,
     "metadata": {},
     "output_type": "execute_result"
    }
   ],
   "source": [
    "# Applying different Boosting regression Model.\n",
    "\n",
    "# Gradient Boosting Regression\n",
    "\n",
    "gb_model = GradientBoostingRegressor()\n",
    "\n",
    "gb_model.fit(X_train, y_train)"
   ]
  },
  {
   "cell_type": "code",
   "execution_count": 25,
   "id": "17f6badc",
   "metadata": {},
   "outputs": [
    {
     "name": "stdout",
     "output_type": "stream",
     "text": [
      "Mean Squared Error (MSE) : 0.021055022062925314\n",
      "R2 Score : 0.40192741758217476\n"
     ]
    }
   ],
   "source": [
    "y_pred_gb = gb_model.predict(X_test)\n",
    "\n",
    "mse = mean_squared_error(y_test, y_pred_gb)\n",
    "r2 = r2_score(y_test, y_pred_gb)\n",
    "print(f\"Mean Squared Error (MSE) : {mse}\\nR2 Score : {r2}\")"
   ]
  },
  {
   "cell_type": "code",
   "execution_count": 26,
   "id": "603ce2d6",
   "metadata": {},
   "outputs": [
    {
     "data": {
      "text/plain": [
       "GridSearchCV(cv=5, estimator=GradientBoostingRegressor(),\n",
       "             param_grid={'learning_rate': [0.01, 0.1, 0.5],\n",
       "                         'max_depth': [3, 4, 5],\n",
       "                         'min_samples_split': [2, 5, 10],\n",
       "                         'n_estimators': [50, 100, 200]})"
      ]
     },
     "execution_count": 26,
     "metadata": {},
     "output_type": "execute_result"
    }
   ],
   "source": [
    "# Hyperparameter tuning in the gradient boosting regression model as we have recieved highest R2 score up till now i.e. 0.40.\n",
    "\n",
    "param_grid = {\n",
    "    'n_estimators' : [50, 100, 200],\n",
    "    'learning_rate' : [0.01, 0.1, 0.5],\n",
    "    'max_depth' : [3, 4, 5],\n",
    "    'min_samples_split' : [2, 5, 10]\n",
    "}\n",
    "\n",
    "# Perform grid search with cross validation\n",
    "GS = GridSearchCV(estimator = gb_model, param_grid = param_grid, cv = 5)\n",
    "GS.fit(X_train, y_train)"
   ]
  },
  {
   "cell_type": "code",
   "execution_count": 27,
   "id": "c01693a2",
   "metadata": {},
   "outputs": [
    {
     "name": "stdout",
     "output_type": "stream",
     "text": [
      "Best Hperparameters : {'learning_rate': 0.1, 'max_depth': 5, 'min_samples_split': 10, 'n_estimators': 50}\n",
      "Best Model : GradientBoostingRegressor(max_depth=5, min_samples_split=10, n_estimators=50)\n"
     ]
    }
   ],
   "source": [
    "# Getting best hyperparameters and model\n",
    "best_params = GS.best_params_\n",
    "best_model = GS.best_estimator_\n",
    "\n",
    "print(f\"Best Hperparameters : {best_params}\\nBest Model : {best_model}\")"
   ]
  },
  {
   "cell_type": "code",
   "execution_count": 28,
   "id": "9e333622",
   "metadata": {},
   "outputs": [
    {
     "name": "stdout",
     "output_type": "stream",
     "text": [
      "Mean Squared Error (MSE) : 0.02055949672668214\n",
      "R2 Score : 0.41600292491789304\n"
     ]
    }
   ],
   "source": [
    "y_pred_gb2 = best_model.predict(X_test)\n",
    "\n",
    "mse = mean_squared_error(y_test, y_pred_gb2)\n",
    "r2 = r2_score(y_test, y_pred_gb2)\n",
    "print(f\"Mean Squared Error (MSE) : {mse}\\nR2 Score : {r2}\")"
   ]
  },
  {
   "cell_type": "code",
   "execution_count": 29,
   "id": "35cbc115",
   "metadata": {},
   "outputs": [
    {
     "data": {
      "text/plain": [
       "RandomForestRegressor()"
      ]
     },
     "execution_count": 29,
     "metadata": {},
     "output_type": "execute_result"
    }
   ],
   "source": [
    "# Applying Bagging technique using Random Forest Model.\n",
    "\n",
    "from sklearn.ensemble import RandomForestRegressor\n",
    "\n",
    "rf_model = RandomForestRegressor()\n",
    "rf_model.fit(X_train, y_train)"
   ]
  },
  {
   "cell_type": "code",
   "execution_count": 30,
   "id": "b95ed397",
   "metadata": {},
   "outputs": [
    {
     "name": "stdout",
     "output_type": "stream",
     "text": [
      "Mean Squared Error (MSE) : 0.021200001515490702\n",
      "R2 Score : 0.39780924400182094\n"
     ]
    }
   ],
   "source": [
    "y_pred_rf = rf_model.predict(X_test)\n",
    "\n",
    "mse = mean_squared_error(y_test, y_pred_rf)\n",
    "r2 = r2_score(y_test, y_pred_rf)\n",
    "print(f\"Mean Squared Error (MSE) : {mse}\\nR2 Score : {r2}\")"
   ]
  },
  {
   "cell_type": "code",
   "execution_count": 32,
   "id": "fa1a5aca",
   "metadata": {},
   "outputs": [
    {
     "data": {
      "text/plain": [
       "GridSearchCV(cv=5, estimator=RandomForestRegressor(),\n",
       "             param_grid={'max_depth': [None, 10, 20],\n",
       "                         'max_features': ['auto', 'sqrt'],\n",
       "                         'min_samples_leaf': [1, 2, 4],\n",
       "                         'min_samples_split': [2, 5, 10],\n",
       "                         'n_estimators': [50, 100, 200]},\n",
       "             scoring='r2')"
      ]
     },
     "execution_count": 32,
     "metadata": {},
     "output_type": "execute_result"
    }
   ],
   "source": [
    "# Applying Hyperparameter tuning on random Forest model\n",
    "\n",
    "# Define the hyperparameter grid to search\n",
    "param_grid = {\n",
    "    'n_estimators': [50, 100, 200],        # Number of trees in the forest\n",
    "    'max_features': ['auto', 'sqrt'],      # Number of features to consider when looking for the best split\n",
    "    'max_depth': [None, 10, 20],           # Maximum depth of the tree\n",
    "    'min_samples_split': [2, 5, 10],       # Minimum number of samples required to split an internal node\n",
    "    'min_samples_leaf': [1, 2, 4]          # Minimum number of samples required to be at a leaf node\n",
    "}\n",
    "\n",
    "# Perform the grid search with cross validation\n",
    "grid_search = GridSearchCV(estimator=rf_model, param_grid=param_grid, cv=5, scoring='r2')\n",
    "grid_search.fit(X_train, y_train)"
   ]
  },
  {
   "cell_type": "code",
   "execution_count": 33,
   "id": "58248782",
   "metadata": {},
   "outputs": [
    {
     "name": "stdout",
     "output_type": "stream",
     "text": [
      "Best Hperparameters : {'max_depth': 10, 'max_features': 'sqrt', 'min_samples_leaf': 1, 'min_samples_split': 2, 'n_estimators': 200}\n",
      "Best Model : RandomForestRegressor(max_depth=10, max_features='sqrt', n_estimators=200)\n"
     ]
    }
   ],
   "source": [
    "# Get the best hyperparameters and best model\n",
    "best_params = grid_search.best_params_\n",
    "best_model = grid_search.best_estimator_\n",
    "\n",
    "print(f\"Best Hperparameters : {best_params}\\nBest Model : {best_model}\")"
   ]
  },
  {
   "cell_type": "code",
   "execution_count": 34,
   "id": "563680a7",
   "metadata": {},
   "outputs": [
    {
     "name": "stdout",
     "output_type": "stream",
     "text": [
      "Mean Squared Error (MSE) : 0.020158684593549348\n",
      "R2 Score : 0.4273880826636657\n"
     ]
    }
   ],
   "source": [
    "y_pred_rf2 = best_model.predict(X_test)\n",
    "\n",
    "mse = mean_squared_error(y_test, y_pred_rf2)\n",
    "r2 = r2_score(y_test, y_pred_rf2)\n",
    "print(f\"Mean Squared Error (MSE) : {mse}\\nR2 Score : {r2}\")"
   ]
  },
  {
   "cell_type": "code",
   "execution_count": null,
   "id": "3cbaf107",
   "metadata": {},
   "outputs": [],
   "source": []
  }
 ],
 "metadata": {
  "kernelspec": {
   "display_name": "Python 3 (ipykernel)",
   "language": "python",
   "name": "python3"
  },
  "language_info": {
   "codemirror_mode": {
    "name": "ipython",
    "version": 3
   },
   "file_extension": ".py",
   "mimetype": "text/x-python",
   "name": "python",
   "nbconvert_exporter": "python",
   "pygments_lexer": "ipython3",
   "version": "3.9.13"
  }
 },
 "nbformat": 4,
 "nbformat_minor": 5
}

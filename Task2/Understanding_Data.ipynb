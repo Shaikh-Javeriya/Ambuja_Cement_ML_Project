{
 "cells": [
  {
   "cell_type": "code",
   "execution_count": 1,
   "id": "98a27b85",
   "metadata": {},
   "outputs": [],
   "source": [
    "# Importing Libraries\n",
    "\n",
    "import pandas as pd\n",
    "import numpy as np"
   ]
  },
  {
   "cell_type": "code",
   "execution_count": 3,
   "id": "b7bc288d",
   "metadata": {},
   "outputs": [
    {
     "data": {
      "text/html": [
       "<div>\n",
       "<style scoped>\n",
       "    .dataframe tbody tr th:only-of-type {\n",
       "        vertical-align: middle;\n",
       "    }\n",
       "\n",
       "    .dataframe tbody tr th {\n",
       "        vertical-align: top;\n",
       "    }\n",
       "\n",
       "    .dataframe thead th {\n",
       "        text-align: right;\n",
       "    }\n",
       "</style>\n",
       "<table border=\"1\" class=\"dataframe\">\n",
       "  <thead>\n",
       "    <tr style=\"text-align: right;\">\n",
       "      <th></th>\n",
       "      <th>Material Quantity (gm)</th>\n",
       "      <th>Additive Catalyst (gm)</th>\n",
       "      <th>Ash Component (gm)</th>\n",
       "      <th>Water Mix (ml)</th>\n",
       "      <th>Plasticizer (gm)</th>\n",
       "      <th>Moderate Aggregator</th>\n",
       "      <th>Refined Aggregator</th>\n",
       "      <th>Formulation Duration (hrs)</th>\n",
       "      <th>Compression Strength MPa</th>\n",
       "    </tr>\n",
       "  </thead>\n",
       "  <tbody>\n",
       "    <tr>\n",
       "      <th>0</th>\n",
       "      <td>486.42</td>\n",
       "      <td>180.60</td>\n",
       "      <td>21.26</td>\n",
       "      <td>201.66</td>\n",
       "      <td>16.11</td>\n",
       "      <td>1151.17</td>\n",
       "      <td>708.50</td>\n",
       "      <td>344.43</td>\n",
       "      <td>79.89</td>\n",
       "    </tr>\n",
       "    <tr>\n",
       "      <th>1</th>\n",
       "      <td>133.32</td>\n",
       "      <td>260.14</td>\n",
       "      <td>185.60</td>\n",
       "      <td>175.99</td>\n",
       "      <td>6.27</td>\n",
       "      <td>1090.57</td>\n",
       "      <td>1010.25</td>\n",
       "      <td>28.86</td>\n",
       "      <td>59.80</td>\n",
       "    </tr>\n",
       "    <tr>\n",
       "      <th>2</th>\n",
       "      <td>559.97</td>\n",
       "      <td>2.84</td>\n",
       "      <td>111.76</td>\n",
       "      <td>295.23</td>\n",
       "      <td>11.95</td>\n",
       "      <td>1024.93</td>\n",
       "      <td>810.69</td>\n",
       "      <td>237.68</td>\n",
       "      <td>77.86</td>\n",
       "    </tr>\n",
       "    <tr>\n",
       "      <th>3</th>\n",
       "      <td>391.43</td>\n",
       "      <td>351.05</td>\n",
       "      <td>76.39</td>\n",
       "      <td>299.14</td>\n",
       "      <td>19.00</td>\n",
       "      <td>1134.88</td>\n",
       "      <td>881.34</td>\n",
       "      <td>208.81</td>\n",
       "      <td>71.74</td>\n",
       "    </tr>\n",
       "    <tr>\n",
       "      <th>4</th>\n",
       "      <td>394.78</td>\n",
       "      <td>352.61</td>\n",
       "      <td>194.35</td>\n",
       "      <td>235.54</td>\n",
       "      <td>17.02</td>\n",
       "      <td>1098.24</td>\n",
       "      <td>781.01</td>\n",
       "      <td>266.84</td>\n",
       "      <td>76.07</td>\n",
       "    </tr>\n",
       "  </tbody>\n",
       "</table>\n",
       "</div>"
      ],
      "text/plain": [
       "   Material Quantity (gm)  Additive Catalyst (gm)  Ash Component (gm)  \\\n",
       "0                  486.42                  180.60               21.26   \n",
       "1                  133.32                  260.14              185.60   \n",
       "2                  559.97                    2.84              111.76   \n",
       "3                  391.43                  351.05               76.39   \n",
       "4                  394.78                  352.61              194.35   \n",
       "\n",
       "   Water Mix (ml)  Plasticizer (gm)  Moderate Aggregator  Refined Aggregator  \\\n",
       "0          201.66             16.11              1151.17              708.50   \n",
       "1          175.99              6.27              1090.57             1010.25   \n",
       "2          295.23             11.95              1024.93              810.69   \n",
       "3          299.14             19.00              1134.88              881.34   \n",
       "4          235.54             17.02              1098.24              781.01   \n",
       "\n",
       "   Formulation Duration (hrs)  Compression Strength MPa  \n",
       "0                      344.43                     79.89  \n",
       "1                       28.86                     59.80  \n",
       "2                      237.68                     77.86  \n",
       "3                      208.81                     71.74  \n",
       "4                      266.84                     76.07  "
      ]
     },
     "execution_count": 3,
     "metadata": {},
     "output_type": "execute_result"
    }
   ],
   "source": [
    "data = pd.read_csv(\"Material Compressive Strength Experimental Data.csv\")\n",
    "data.head()"
   ]
  },
  {
   "cell_type": "code",
   "execution_count": 4,
   "id": "7dac0608",
   "metadata": {},
   "outputs": [
    {
     "name": "stdout",
     "output_type": "stream",
     "text": [
      "<class 'pandas.core.frame.DataFrame'>\n",
      "RangeIndex: 6139 entries, 0 to 6138\n",
      "Data columns (total 9 columns):\n",
      " #   Column                      Non-Null Count  Dtype  \n",
      "---  ------                      --------------  -----  \n",
      " 0   Material Quantity (gm)      6030 non-null   float64\n",
      " 1   Additive Catalyst (gm)      6030 non-null   float64\n",
      " 2   Ash Component (gm)          6030 non-null   float64\n",
      " 3   Water Mix (ml)              6030 non-null   float64\n",
      " 4   Plasticizer (gm)            6030 non-null   float64\n",
      " 5   Moderate Aggregator         6030 non-null   float64\n",
      " 6   Refined Aggregator          6030 non-null   float64\n",
      " 7   Formulation Duration (hrs)  6030 non-null   float64\n",
      " 8   Compression Strength MPa    6139 non-null   float64\n",
      "dtypes: float64(9)\n",
      "memory usage: 431.8 KB\n"
     ]
    }
   ],
   "source": [
    "data.info()"
   ]
  },
  {
   "cell_type": "code",
   "execution_count": 5,
   "id": "a7f6b54c",
   "metadata": {},
   "outputs": [
    {
     "data": {
      "text/plain": [
       "Material Quantity (gm)        109\n",
       "Additive Catalyst (gm)        109\n",
       "Ash Component (gm)            109\n",
       "Water Mix (ml)                109\n",
       "Plasticizer (gm)              109\n",
       "Moderate Aggregator           109\n",
       "Refined Aggregator            109\n",
       "Formulation Duration (hrs)    109\n",
       "Compression Strength MPa        0\n",
       "dtype: int64"
      ]
     },
     "execution_count": 5,
     "metadata": {},
     "output_type": "execute_result"
    }
   ],
   "source": [
    "data.isnull().sum()"
   ]
  },
  {
   "cell_type": "code",
   "execution_count": null,
   "id": "4cb22a70",
   "metadata": {},
   "outputs": [],
   "source": []
  }
 ],
 "metadata": {
  "kernelspec": {
   "display_name": "Python 3 (ipykernel)",
   "language": "python",
   "name": "python3"
  },
  "language_info": {
   "codemirror_mode": {
    "name": "ipython",
    "version": 3
   },
   "file_extension": ".py",
   "mimetype": "text/x-python",
   "name": "python",
   "nbconvert_exporter": "python",
   "pygments_lexer": "ipython3",
   "version": "3.9.13"
  }
 },
 "nbformat": 4,
 "nbformat_minor": 5
}
